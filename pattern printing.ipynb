{
 "cells": [
  {
   "cell_type": "code",
   "execution_count": 8,
   "id": "343f6d33",
   "metadata": {},
   "outputs": [
    {
     "name": "stdout",
     "output_type": "stream",
     "text": [
      "enter number of rows5\n",
      "1\n",
      "22\n",
      "333\n",
      "4444\n",
      "55555\n"
     ]
    }
   ],
   "source": [
    "n=(int(input(\"enter number of rows\")))\n",
    "for i in range(1,n+1):\n",
    "    for j in range(1,i+1):\n",
    "        print(i,end=\"\")\n",
    "    print()"
   ]
  },
  {
   "cell_type": "code",
   "execution_count": 9,
   "id": "31c73d00",
   "metadata": {},
   "outputs": [
    {
     "name": "stdout",
     "output_type": "stream",
     "text": [
      "enter number of rows6\n",
      "1\n",
      "12\n",
      "123\n",
      "1234\n",
      "12345\n",
      "123456\n"
     ]
    }
   ],
   "source": [
    "n=(int(input(\"enter number of rows\")))\n",
    "for i in range(1,n+1):\n",
    "    for j in range(1,i+1):\n",
    "        print(j,end=\"\")\n",
    "    print()"
   ]
  },
  {
   "cell_type": "code",
   "execution_count": null,
   "id": "ba58b181",
   "metadata": {},
   "outputs": [],
   "source": []
  },
  {
   "cell_type": "code",
   "execution_count": 1,
   "id": "0722f663",
   "metadata": {},
   "outputs": [
    {
     "name": "stdout",
     "output_type": "stream",
     "text": [
      "enter the number of rows6\n",
      "*     \n",
      "**    \n",
      "* *   \n",
      "*  *  \n",
      "*   * \n",
      "******\n"
     ]
    }
   ],
   "source": [
    "n=int(input(\"enter the number of rows\"))\n",
    "for row in range(n):\n",
    "    for col in range(n):\n",
    "        if col==0 or row==(n-1) or col==row:\n",
    "            print(\"*\",end=\"\")\n",
    "        else:\n",
    "            print(end=\" \")\n",
    "            \n",
    "    print()"
   ]
  },
  {
   "cell_type": "code",
   "execution_count": 7,
   "id": "ee5b7ab1",
   "metadata": {},
   "outputs": [
    {
     "name": "stdout",
     "output_type": "stream",
     "text": [
      "enter the number of rows9\n",
      "*********\n",
      " *      *\n",
      "  *     *\n",
      "   *    *\n",
      "    *   *\n",
      "     *  *\n",
      "      * *\n",
      "       **\n",
      "        *\n"
     ]
    }
   ],
   "source": [
    "n=int(input(\"enter the number of rows\"))\n",
    "for row in range(n):\n",
    "    for col in range(n):\n",
    "        if col==row or col==(n-1) or row==0:\n",
    "            print(end=\"*\")\n",
    "        else:\n",
    "            print(end=\" \")\n",
    "            \n",
    "    print()"
   ]
  },
  {
   "cell_type": "code",
   "execution_count": 21,
   "id": "0c51a178",
   "metadata": {},
   "outputs": [
    {
     "name": "stdout",
     "output_type": "stream",
     "text": [
      "enter the number of rows5\n",
      "1\n",
      "23\n",
      "456\n",
      "78910\n",
      "1112131415\n"
     ]
    }
   ],
   "source": [
    "n=int(input(\"enter the number of rows\"))\n",
    "num=1\n",
    "for i in range(1,n+1):\n",
    "    for j in range(1,i+1):\n",
    "        print(num,end=\"\")\n",
    "        num=num+1\n",
    "    print()\n",
    "        \n",
    "    "
   ]
  },
  {
   "cell_type": "code",
   "execution_count": 16,
   "id": "b9539a25",
   "metadata": {},
   "outputs": [
    {
     "name": "stdout",
     "output_type": "stream",
     "text": [
      "  * *   * *   \n",
      "*     *     * \n",
      "*           * \n",
      "  *       *   \n",
      "    *   *     \n",
      "      *       \n"
     ]
    }
   ],
   "source": [
    "for row in range(6):\n",
    "    for col in range(7):\n",
    "        if (row==0 and col%3!=0) or (row==1 and col%3==0) or (row-col==2) or (row+col==8):\n",
    "            print(\"*\",end=\" \")\n",
    "        else:\n",
    "            print(\" \",end=\" \")\n",
    "    print()"
   ]
  },
  {
   "cell_type": "code",
   "execution_count": 71,
   "id": "f085b4a2",
   "metadata": {},
   "outputs": [
    {
     "name": "stdout",
     "output_type": "stream",
     "text": [
      "Enter a Word : nikhil hero\n",
      "n\n",
      "ni\n",
      "nik\n",
      "nikh\n",
      "nikhi\n",
      "nikhil\n",
      "nikhil \n",
      "nikhil h\n",
      "nikhil he\n",
      "nikhil her\n",
      "nikhil hero\n"
     ]
    }
   ],
   "source": [
    "n=input(\"Enter a Word : \")\n",
    "for i in range(0,len(n)):\n",
    "    for j in range(0,i+1):\n",
    "        print(n[j],end=\"\")\n",
    "    print()"
   ]
  },
  {
   "cell_type": "code",
   "execution_count": 8,
   "id": "1909ebc3",
   "metadata": {},
   "outputs": [
    {
     "name": "stdout",
     "output_type": "stream",
     "text": [
      "         *           \n",
      "      *     *        \n",
      "   *           *     \n",
      "*  *  *  *  *  *  *  \n"
     ]
    }
   ],
   "source": [
    "for row in range(1,5):\n",
    "    for col in range(1,8):\n",
    "        if row==4 or row+col==5 or col-row==3:\n",
    "            print(\"*\",end=\"  \")\n",
    "        else:\n",
    "            print(\" \",end=\"  \")\n",
    "        \n",
    "    print()"
   ]
  },
  {
   "cell_type": "code",
   "execution_count": 10,
   "id": "e7a7e52f",
   "metadata": {},
   "outputs": [
    {
     "name": "stdout",
     "output_type": "stream",
     "text": [
      "  *  \n",
      " * * \n",
      "*   *\n",
      " * * \n",
      "  *  \n"
     ]
    }
   ],
   "source": [
    "for row in range(5):\n",
    "    for col in range(5):\n",
    "        if  row+col==2 or col-row==2 or row-col==2 or col+row==6:\n",
    "            print(\"*\",end=\"\")\n",
    "        else:\n",
    "            print(end=\" \")\n",
    "    print()"
   ]
  },
  {
   "cell_type": "code",
   "execution_count": 13,
   "id": "2836e9fc",
   "metadata": {},
   "outputs": [
    {
     "name": "stdout",
     "output_type": "stream",
     "text": [
      "enter a number7\n",
      "      1\n",
      "     212\n",
      "    32123\n",
      "   4321234\n",
      "  543212345\n",
      " 65432123456\n",
      "7654321234567\n"
     ]
    }
   ],
   "source": [
    "n=int(input(\"enter a number\"))\n",
    "for i in range(1,n+1):\n",
    "        for j in range(1,n-i+1):\n",
    "            print(end=\" \")\n",
    "        for j in range(i,0,-1):\n",
    "            print(j,end=\"\")\n",
    "        for j in range(2,i+1):\n",
    "            print(j,end=\"\")\n",
    "        print()\n",
    "            \n"
   ]
  },
  {
   "cell_type": "code",
   "execution_count": 19,
   "id": "78c1e354",
   "metadata": {},
   "outputs": [
    {
     "name": "stdout",
     "output_type": "stream",
     "text": [
      "enter the number of rows5\n",
      "*    \n",
      "**   \n",
      "***  \n",
      "* ** \n",
      "*  **\n"
     ]
    }
   ],
   "source": [
    "n=int(input(\"enter the number of rows\"))\n",
    "for row in range(n):\n",
    "    for col in range(n):\n",
    "        if col==0 or row==col or row==col+1:\n",
    "            print(\"*\",end=\"\")\n",
    "        else:\n",
    "            print(end=\" \")\n",
    "            \n",
    "    print()"
   ]
  },
  {
   "cell_type": "markdown",
   "id": "5c866f3e",
   "metadata": {},
   "source": []
  },
  {
   "cell_type": "code",
   "execution_count": 3,
   "id": "c800c88b",
   "metadata": {},
   "outputs": [
    {
     "name": "stdout",
     "output_type": "stream",
     "text": [
      "enter the number of rows7\n",
      "*\n",
      "**\n",
      "***\n",
      "****\n",
      "*****\n",
      "******\n",
      "*******\n"
     ]
    }
   ],
   "source": [
    "n=int(input(\"enter the number of rows\"))\n",
    "for i in range(1,n+1):\n",
    "    print(\"*\" * i)"
   ]
  },
  {
   "cell_type": "code",
   "execution_count": 2,
   "id": "40f5d827",
   "metadata": {},
   "outputs": [
    {
     "name": "stdout",
     "output_type": "stream",
     "text": [
      "enter the number of rows7\n",
      "*           * \n",
      "* *         * \n",
      "*   *       * \n",
      "*     *     * \n",
      "*       *   * \n",
      "*         * * \n",
      "*           * \n",
      "\n",
      "* * * * * * * \n",
      "      *       \n",
      "      *       \n",
      "      *       \n",
      "      *       \n",
      "      *       \n",
      "* * * * * * * \n",
      "\n",
      "*          *    \n",
      "*       *       \n",
      "*    *          \n",
      "* *             \n",
      "*    *          \n",
      "*       *       \n",
      "*          *    \n",
      "\n",
      "*           * \n",
      "*           * \n",
      "*           * \n",
      "* * * * * * * \n",
      "*           * \n",
      "*           * \n",
      "*           * \n",
      "\n",
      "* * * * * * * \n",
      "      *       \n",
      "      *       \n",
      "      *       \n",
      "      *       \n",
      "      *       \n",
      "* * * * * * * \n",
      "\n",
      "*             \n",
      "*             \n",
      "*             \n",
      "*             \n",
      "*             \n",
      "*             \n",
      "* * * * * * * \n"
     ]
    }
   ],
   "source": [
    "n=int(input(\"enter the number of rows\"))\n",
    "for row in range(1,n+1):\n",
    "    for col in range(1,n+1):\n",
    "        if col==1 or row==col or col==n:\n",
    "            print(\"*\",end=\" \")\n",
    "        else:\n",
    "            print(\" \",end=\" \")\n",
    "    print()\n",
    "    \n",
    "print()\n",
    "\n",
    "for row in range(1,n+1):\n",
    "    for col in range(1,n+1):\n",
    "        if row==1  or col==(n+1)//2 or row==n:\n",
    "            print(\"*\",end=\" \")\n",
    "        else:\n",
    "            print(\" \",end=\" \")\n",
    "    print()\n",
    "    \n",
    "print()\n",
    "\n",
    "for row in range(1,n+1):\n",
    "    for col in range(1,n):\n",
    "        if col==1 or row+col==(n-1) or row-col==2:\n",
    "            print(\"*\",end=\" \")\n",
    "        else:\n",
    "            print(\"  \",end=\" \")\n",
    "            \n",
    "    print()\n",
    "    \n",
    "print()\n",
    "\n",
    "for row in range(1,n+1):\n",
    "    for col in range(1,n+1):\n",
    "        if col==1 or row==(n+1)//2 or col==n:\n",
    "            print(\"*\",end=\" \")\n",
    "        else:\n",
    "            print(\" \",end=\" \")\n",
    "            \n",
    "    print()\n",
    "    \n",
    "print()\n",
    "\n",
    "for row in range(1,n+1):\n",
    "    for col in range(1,n+1):\n",
    "        if row==1  or col==(n+1)//2 or row==n:\n",
    "            print(\"*\",end=\" \")\n",
    "        else:\n",
    "            print(\" \",end=\" \")\n",
    "    print()\n",
    "    \n",
    "print()\n",
    "\n",
    "for row in range(1,n+1):\n",
    "    for col in range(1,n+1):\n",
    "        if col==1 or row==n:\n",
    "            print(\"*\",end=\" \")\n",
    "        else:\n",
    "            print(\" \",end=\" \")\n",
    "            \n",
    "    print()\n",
    "    "
   ]
  },
  {
   "cell_type": "code",
   "execution_count": null,
   "id": "c275480a",
   "metadata": {},
   "outputs": [],
   "source": []
  },
  {
   "cell_type": "code",
   "execution_count": null,
   "id": "64ad4bcc",
   "metadata": {},
   "outputs": [],
   "source": []
  }
 ],
 "metadata": {
  "kernelspec": {
   "display_name": "Python 3 (ipykernel)",
   "language": "python",
   "name": "python3"
  },
  "language_info": {
   "codemirror_mode": {
    "name": "ipython",
    "version": 3
   },
   "file_extension": ".py",
   "mimetype": "text/x-python",
   "name": "python",
   "nbconvert_exporter": "python",
   "pygments_lexer": "ipython3",
   "version": "3.9.7"
  }
 },
 "nbformat": 4,
 "nbformat_minor": 5
}
